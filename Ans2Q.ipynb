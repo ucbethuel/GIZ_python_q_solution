{
 "cells": [
  {
   "cell_type": "markdown",
   "id": "6c6aed38-3f75-41b1-8284-55f97bbb6aba",
   "metadata": {},
   "source": [
    "# Answers to Question posted on WhatsApp"
   ]
  },
  {
   "cell_type": "markdown",
   "id": "7eeca1b5-87b7-44e1-bb1d-a42f94a37260",
   "metadata": {},
   "source": [
    "## Q1 Return the list with the highest sum"
   ]
  },
  {
   "cell_type": "code",
   "execution_count": 28,
   "id": "ed1cb37b-3b34-4632-9a34-18befb392b34",
   "metadata": {},
   "outputs": [],
   "source": [
    "def max_sum_list(range_of_list: list):\n",
    "    \"\"\"\n",
    "    Returns the list of max sum value in a given 2D array of any length\n",
    "    \"\"\"\n",
    "    temp_sum = 0\n",
    "    max_list = list()\n",
    "    for ind_list in range_of_list:\n",
    "        if temp_sum < sum(ind_list): # comparing temp_sum to an individual list\n",
    "            temp_sum = sum(ind_list) # assigning the sum for further comparison\n",
    "            max_list = ind_list # Assignning the list of max sum\n",
    "\n",
    "    return max_list\n"
   ]
  },
  {
   "cell_type": "markdown",
   "id": "504895b6-26ea-4229-8188-bc00dc0b09fe",
   "metadata": {},
   "source": [
    "### Below is the test solution of the defined problem (Question 1) which is solved using a function."
   ]
  },
  {
   "cell_type": "code",
   "execution_count": 35,
   "id": "bba846fb-f47a-4424-8bd7-09ff4f95a417",
   "metadata": {},
   "outputs": [
    {
     "name": "stdout",
     "output_type": "stream",
     "text": [
      "[9, 5, 9]\n"
     ]
    }
   ],
   "source": [
    "print(max_sum_list([[2,3,5],[9,1,8],[9,5,9]]))\n",
    "# range_of_list = [[2,3,5],[9,1,8],[9,5,9]]\n",
    "# sum(range_of_list[2])\n"
   ]
  },
  {
   "cell_type": "markdown",
   "id": "93375e1b-aea8-46b0-b0d1-11851c713454",
   "metadata": {},
   "source": [
    "## Q2 Find the missing values given a range of numbers"
   ]
  },
  {
   "cell_type": "code",
   "execution_count": 39,
   "id": "65591fab-fb34-4779-a676-554b986a03f6",
   "metadata": {},
   "outputs": [],
   "source": [
    "def missing_range_values(list_params):\n",
    "    \"\"\"\n",
    "    Returns missing value in a given range of numbers in a list\n",
    "    \"\"\"\n",
    "    return [ nums for nums in range(min(list_params), max(list_params)) if nums not in list_params]\n",
    "    # min_value = min(list_params) # gets the min value in the list of numbers\n",
    "    # max_value = max(list_params)\n",
    "    # return [ nums for nums in range(min_value, max_value) if nums not in list_params]\n",
    "    # first method\n",
    "    # missing_values = []\n",
    "    # for i in range(min_value, max_value):\n",
    "    #     if i not in list_params:\n",
    "    #         missing_values.append(i)\n",
    "    # return missing_values"
   ]
  },
  {
   "cell_type": "markdown",
   "id": "d696fa4a-42cd-40a4-92ef-c6b17087bcaa",
   "metadata": {},
   "source": [
    "### Below is the test solution of the defined problem (Question 2) which is also solved using a function."
   ]
  },
  {
   "cell_type": "code",
   "execution_count": 40,
   "id": "034bddb7-45a1-4411-af82-8a67fa72db5e",
   "metadata": {},
   "outputs": [
    {
     "data": {
      "text/plain": [
       "[2, 3, 4, 7, 8, 10, 11]"
      ]
     },
     "execution_count": 40,
     "metadata": {},
     "output_type": "execute_result"
    }
   ],
   "source": [
    "missing_range_values([1,5,6,9,12])"
   ]
  },
  {
   "cell_type": "code",
   "execution_count": null,
   "id": "8c3c7926-cad3-43b6-8bcf-ae57cc358a9f",
   "metadata": {},
   "outputs": [],
   "source": []
  }
 ],
 "metadata": {
  "kernelspec": {
   "display_name": "Python 3 (ipykernel)",
   "language": "python",
   "name": "python3"
  },
  "language_info": {
   "codemirror_mode": {
    "name": "ipython",
    "version": 3
   },
   "file_extension": ".py",
   "mimetype": "text/x-python",
   "name": "python",
   "nbconvert_exporter": "python",
   "pygments_lexer": "ipython3",
   "version": "3.12.4"
  }
 },
 "nbformat": 4,
 "nbformat_minor": 5
}
